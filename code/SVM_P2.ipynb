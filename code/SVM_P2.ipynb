{
  "nbformat": 4,
  "nbformat_minor": 0,
  "metadata": {
    "colab": {
      "name": "Copy of SVM Clean (To submit)",
      "provenance": [],
      "collapsed_sections": []
    },
    "kernelspec": {
      "display_name": "Python 3",
      "name": "python3"
    },
    "language_info": {
      "name": "python"
    }
  },
  "cells": [
    {
      "cell_type": "code",
      "metadata": {
        "id": "0MIY6fzCvshZ"
      },
      "source": [
        "! pip install kaggle\n",
        "! mkdir ~/.kaggle\n",
        "! cp kaggle.json ~/.kaggle/\n",
        "! chmod 600 ~/.kaggle/kaggle.json"
      ],
      "execution_count": null,
      "outputs": []
    },
    {
      "cell_type": "code",
      "metadata": {
        "id": "LFVaXl42w8Dj"
      },
      "source": [
        "! kaggle datasets download ananthu017/emotion-detection-fer/activity\n",
        "! unzip emotion-detection-fer.zip"
      ],
      "execution_count": null,
      "outputs": []
    },
    {
      "cell_type": "code",
      "metadata": {
        "id": "VjIdjJ-3xAxm"
      },
      "source": [
        "! pip install wheel\n",
        "! pip install pandas\n",
        "! pip install -U scikit-image"
      ],
      "execution_count": null,
      "outputs": []
    },
    {
      "cell_type": "code",
      "metadata": {
        "id": "KT3XwDv3xPQM"
      },
      "source": [
        "import pandas as pd\n",
        "import os\n",
        "from skimage.transform import resize\n",
        "from skimage.io import imread\n",
        "import numpy as np\n",
        "import matplotlib.pyplot as plt\n",
        "\n",
        "from skimage.feature import hog\n",
        "from skimage.transform import rescale\n",
        "from skimage import exposure, io, util\n",
        "from sklearn import metrics\n",
        "from sklearn import svm\n",
        "from sklearn.metrics import confusion_matrix"
      ],
      "execution_count": null,
      "outputs": []
    },
    {
      "cell_type": "markdown",
      "metadata": {
        "id": "jPxzF8_OxDZf"
      },
      "source": [
        "### HOG Sample"
      ]
    },
    {
      "cell_type": "code",
      "metadata": {
        "id": "nIDI9TurxDEZ"
      },
      "source": [
        "image = imread('train/sad/im7.png', as_gray=True)\n",
        "image_hog, image_hog_img = hog(\n",
        "    image, pixels_per_cell=(4,4), \n",
        "    cells_per_block=(2, 2), \n",
        "    orientations=8, \n",
        "    visualize=True, \n",
        "    block_norm='L2-Hys')\n",
        "#image_hog_img=resize(image_hog_img,(48,48))\n",
        "fig, ax = plt.subplots(1, 2)\n",
        "ax[0].imshow(image, cmap='gray')\n",
        "ax[1].imshow(image_hog_img, cmap=\"gray\")\n",
        "print(image_hog.shape[0])\n",
        "print(image.shape[0]*image.shape[1])"
      ],
      "execution_count": null,
      "outputs": []
    },
    {
      "cell_type": "code",
      "metadata": {
        "id": "YyQJGNXAyhPK"
      },
      "source": [
        "Categories=['angry','disgusted','fearful', 'happy', 'neutral', 'sad', 'surprised']\n",
        "flat_data_arr=[] #input array\n",
        "target_arr=[] #output array\n",
        "datadir='train' \n",
        "#path which contains all the categories of images\n",
        "for i in Categories:\n",
        "    print(f'loading... category : {i}')\n",
        "    path=os.path.join(datadir,i)\n",
        "    for img in os.listdir(path):\n",
        "        img_array=imread(os.path.join(path,img))\n",
        "        image=resize(img_array, (48, 48))\n",
        "        flat_data_arr.append(image.flatten())\n",
        "        target_arr.append(Categories.index(i))\n",
        "    print(f'loaded category:{i} successfully')\n",
        "flat_data=np.array(flat_data_arr)\n",
        "target=np.array(target_arr)\n",
        "df=pd.DataFrame(flat_data) #dataframe\n",
        "df['Target']=target\n",
        "x=df.iloc[:,:-1] #input data \n",
        "y=df.iloc[:,-1] #output data"
      ],
      "execution_count": null,
      "outputs": []
    },
    {
      "cell_type": "code",
      "metadata": {
        "id": "KaSLXBYN0vJ4"
      },
      "source": [
        "from sklearn.model_selection import train_test_split\n",
        "x_train,x_test,y_train,y_test=train_test_split(x,y,test_size=0.20,random_state=77,stratify=y)\n",
        "print('Splitted Successfully')"
      ],
      "execution_count": null,
      "outputs": []
    },
    {
      "cell_type": "code",
      "metadata": {
        "id": "Vtk3pNIp00Sn"
      },
      "source": [
        "from sklearn import svm"
      ],
      "execution_count": null,
      "outputs": []
    },
    {
      "cell_type": "code",
      "metadata": {
        "id": "9y8-BfHK0-BE"
      },
      "source": [
        "clf = svm.SVC(kernel='rbf', gamma=0.01, C=10)\n",
        "clf.fit(x_train, y_train)\n",
        "y_pred = clf.predict(x_test)"
      ],
      "execution_count": null,
      "outputs": []
    },
    {
      "cell_type": "code",
      "metadata": {
        "id": "T-L58D4ai4Am"
      },
      "source": [
        "from sklearn import metrics\n",
        "print(\"Accuracy:\",metrics.accuracy_score(y_test, y_pred))"
      ],
      "execution_count": null,
      "outputs": []
    },
    {
      "cell_type": "code",
      "metadata": {
        "id": "-UmV-lQOqL9K"
      },
      "source": [
        "from sklearn import metrics\n",
        "\n",
        "print(\"Classification report for - \\n{}:\\n{}\\n\".format(\n",
        "    clf, metrics.classification_report(y_test, y_pred)))"
      ],
      "execution_count": null,
      "outputs": []
    },
    {
      "cell_type": "code",
      "metadata": {
        "id": "Vg-_-8r7u8pv"
      },
      "source": [
        "from mpl_toolkits.axes_grid1 import make_axes_locatable\n",
        " \n",
        "def plot_confusion_matrix(cmx, vmax1=None, vmax2=None, vmax3=None):\n",
        "    cmx_norm = 100*cmx / cmx.sum(axis=1, keepdims=True)\n",
        "    cmx_zero_diag = cmx_norm.copy()\n",
        " \n",
        "    np.fill_diagonal(cmx_zero_diag, 0)\n",
        " \n",
        "    fig, ax = plt.subplots(ncols=3)\n",
        "    fig.set_size_inches(12, 3)\n",
        "    [a.set_xticks(range(len(cmx)+1)) for a in ax]\n",
        "    [a.set_yticks(range(len(cmx)+1)) for a in ax]\n",
        "         \n",
        "    im1 = ax[0].imshow(cmx, vmax=vmax1)\n",
        "    ax[0].set_title('as is')\n",
        "    im2 = ax[1].imshow(cmx_norm, vmax=vmax2)\n",
        "    ax[1].set_title('%')\n",
        "    im3 = ax[2].imshow(cmx_zero_diag, vmax=vmax3)\n",
        "    ax[2].set_title('% and 0 diagonal')\n",
        " \n",
        "    dividers = [make_axes_locatable(a) for a in ax]\n",
        "    cax1, cax2, cax3 = [divider.append_axes(\"right\", size=\"5%\", pad=0.1) \n",
        "                        for divider in dividers]\n",
        " \n",
        "    fig.colorbar(im1, cax=cax1)\n",
        "    fig.colorbar(im2, cax=cax2)\n",
        "    fig.colorbar(im3, cax=cax3)\n",
        "    fig.tight_layout()\n",
        "     "
      ],
      "execution_count": null,
      "outputs": []
    },
    {
      "cell_type": "code",
      "metadata": {
        "id": "6-8rHCgUvBMz"
      },
      "source": [
        "from sklearn.metrics import confusion_matrix\n",
        "\n",
        "cmx_svm = confusion_matrix(y_test, y_pred)\n",
        "plot_confusion_matrix(cmx_svm)"
      ],
      "execution_count": null,
      "outputs": []
    },
    {
      "cell_type": "code",
      "metadata": {
        "id": "AwI1w8xjzluJ"
      },
      "source": [
        "import numpy as np\n",
        "import matplotlib.pyplot as plt\n",
        "\n",
        "from skimage import filters\n",
        "from skimage.data import camera\n",
        "from skimage.util import compare_images\n",
        "\n",
        "\n",
        "image = imread('train/angry/im904.png', as_gray=True)\n",
        "edge_roberts = filters.roberts(image)\n",
        "edge_sobel = filters.sobel(image)\n",
        "image_hog, image_hog_img = hog(\n",
        "    edge_sobel, pixels_per_cell=(2,2), \n",
        "    cells_per_block=(1, 1), \n",
        "    orientations=8, \n",
        "    visualize=True, \n",
        "    block_norm='L2-Hys')\n",
        "\n",
        "fig, axes = plt.subplots(ncols=3, sharex=True, sharey=True,\n",
        "                         figsize=(8, 4))\n",
        "\n",
        "axes[0].imshow(edge_roberts, cmap=plt.cm.gray)\n",
        "axes[0].set_title('Roberts Edge Detection')\n",
        "\n",
        "axes[1].imshow(edge_sobel, cmap=plt.cm.gray)\n",
        "axes[1].set_title('Sobel Edge Detection')\n",
        "\n",
        "axes[2].imshow(image_hog_img, cmap=plt.cm.gray)\n",
        "axes[2].set_title('HOG')\n",
        "\n",
        "for ax in axes:\n",
        "    ax.axis('off')\n",
        "\n",
        "plt.tight_layout()\n",
        "plt.show()"
      ],
      "execution_count": null,
      "outputs": []
    },
    {
      "cell_type": "code",
      "metadata": {
        "id": "ScKmzd6yzEQ0"
      },
      "source": [
        "import numpy as np\n",
        "import matplotlib.pyplot as plt\n",
        "from scipy import ndimage as ndi\n",
        "from skimage.util import random_noise\n",
        "from skimage import feature\n",
        "\n",
        "\n",
        "# Generate noisy image of a square\n",
        "image = imread('train/happy/im906.png', as_gray=True)\n",
        "\n",
        "# Compute the Canny filter for two values of sigma\n",
        "edges1 = feature.canny(image)\n",
        "edges2 = feature.canny(image, sigma=1.5)\n",
        "\n",
        "# display results\n",
        "fig, ax = plt.subplots(nrows=1, ncols=3, figsize=(8, 3))\n",
        "\n",
        "ax[0].imshow(image, cmap='gray')\n",
        "ax[0].set_title('original image', fontsize=20)\n",
        "\n",
        "ax[1].imshow(edges1, cmap='gray')\n",
        "ax[1].set_title(r'Canny filter, $\\sigma=1$', fontsize=20)\n",
        "\n",
        "ax[2].imshow(edges2, cmap='gray')\n",
        "ax[2].set_title(r'Canny filter, $\\sigma=1.5$', fontsize=20)\n",
        "\n",
        "for a in ax:\n",
        "    a.axis('off')\n",
        "\n",
        "fig.tight_layout()\n",
        "plt.show()"
      ],
      "execution_count": null,
      "outputs": []
    },
    {
      "cell_type": "markdown",
      "metadata": {
        "id": "YTXvWzg46ILe"
      },
      "source": [
        "# With Canny"
      ]
    },
    {
      "cell_type": "code",
      "metadata": {
        "id": "CGWBzmHpy1ap"
      },
      "source": [
        "Categories=['angry','disgusted','fearful', 'happy', 'neutral', 'sad', 'surprised']\n",
        "flat_data_arr=[] #input array\n",
        "target_arr=[] #output array\n",
        "datadir='train' \n",
        "#path which contains all the categories of images\n",
        "for i in Categories:\n",
        "    print(f'loading... category : {i}')\n",
        "    path=os.path.join(datadir,i)\n",
        "    x = 0\n",
        "    for img in os.listdir(path):\n",
        "        x = x + 1\n",
        "        if (x == 3001):\n",
        "            break\n",
        "        img_array=imread(os.path.join(path,img))\n",
        "        image = feature.canny(img_array, sigma=1.5)\n",
        "        image=resize(image,(48,48))\n",
        "        flat_data_arr.append(image.flatten())\n",
        "        target_arr.append(Categories.index(i))\n",
        "    print(f'loaded category:{i} successfully')\n",
        "flat_data=np.array(flat_data_arr)\n",
        "target=np.array(target_arr)\n",
        "dfCan=pd.DataFrame(flat_data) #dataframe\n",
        "dfCan['Target']=target\n",
        "xCan=dfCan.iloc[:,:-1] #input data \n",
        "yCan=dfCan.iloc[:,-1] #output data"
      ],
      "execution_count": null,
      "outputs": []
    },
    {
      "cell_type": "code",
      "metadata": {
        "id": "tTKLYKVatmfo"
      },
      "source": [
        "Categories=['angry','disgusted','fearful', 'happy', 'neutral', 'sad', 'surprised']\n",
        "flat_data_arr=[] #input array\n",
        "target_arr=[] #output array\n",
        "datadir='test' \n",
        "#path which contains all the categories of images\n",
        "for i in Categories:\n",
        "    print(f'loading... category : {i}')\n",
        "    path=os.path.join(datadir,i)\n",
        "    for img in os.listdir(path):\n",
        "        img_array=imread(os.path.join(path,img))\n",
        "        image = feature.canny(img_array, sigma=1.5)\n",
        "        image=resize(image,(48,48))\n",
        "        flat_data_arr.append(image.flatten())\n",
        "        target_arr.append(Categories.index(i))\n",
        "    print(f'loaded category:{i} successfully')\n",
        "flat_data=np.array(flat_data_arr)\n",
        "target=np.array(target_arr)\n",
        "dfRTest=pd.DataFrame(flat_data) #dataframe\n",
        "dfRTest['Target']=target\n",
        "xRTest=dfRTest.iloc[:,:-1] #input data \n",
        "yRTest=dfRTest.iloc[:,-1] #output data"
      ],
      "execution_count": null,
      "outputs": []
    },
    {
      "cell_type": "code",
      "metadata": {
        "id": "42eggxZS0LMG"
      },
      "source": [
        "from sklearn.model_selection import train_test_split\n",
        "xCan_train,xCan_test,yCan_train,yCan_test=train_test_split(xCan,yCan,test_size=0.20,random_state=77,stratify=yCan)\n",
        "print('Splitted Successfully')"
      ],
      "execution_count": null,
      "outputs": []
    },
    {
      "cell_type": "code",
      "metadata": {
        "id": "oNXwZmvk0WxV"
      },
      "source": [
        "from sklearn import svm\n",
        "\n",
        "clfCan = svm.SVC(kernel='rbf', gamma=0.01, C=10)\n",
        "clfCan.fit(xCan, yCan)\n",
        "yCan_pred = clfCan.predict(xRTest)"
      ],
      "execution_count": null,
      "outputs": []
    },
    {
      "cell_type": "code",
      "metadata": {
        "id": "_GehfJ8PS-46"
      },
      "source": [
        "from sklearn import metrics\n",
        "\n",
        "print(\"Accuracy:\",metrics.accuracy_score(yRTest, yCan_pred))"
      ],
      "execution_count": null,
      "outputs": []
    },
    {
      "cell_type": "code",
      "metadata": {
        "id": "vczf6mp8TwTz"
      },
      "source": [
        "print(\"Classification report for - \\n{}:\\n{}\\n\".format(\n",
        "    clfCan, metrics.classification_report(yRTest, yCan_pred)))"
      ],
      "execution_count": null,
      "outputs": []
    },
    {
      "cell_type": "code",
      "metadata": {
        "id": "dODfLjowTzz9"
      },
      "source": [
        "from sklearn.metrics import confusion_matrix\n",
        "\n",
        "cmx_svmCan = confusion_matrix(yRTest, yCan_pred)\n",
        "print(cmx_svmCan)\n",
        "plot_confusion_matrix(cmx_svmCan)"
      ],
      "execution_count": null,
      "outputs": []
    },
    {
      "cell_type": "code",
      "metadata": {
        "id": "Q-8pc-C-ThG_"
      },
      "source": [
        "clfCan2 = svm.SVC(kernel='rbf', gamma=0.01, C=100)\n",
        "clfCan2.fit(xCan_train, yCan_train)\n",
        "yCan_pred2 = clfCan2.predict(xCan_test)\n",
        "print(\"Accuracy:\",metrics.accuracy_score(yCan_test, yCan_pred2))"
      ],
      "execution_count": null,
      "outputs": []
    },
    {
      "cell_type": "code",
      "metadata": {
        "id": "QLamSEaV5_5c"
      },
      "source": [
        "from sklearn.metrics import confusion_matrix\n",
        "\n",
        "cmx_svmCan2 = confusion_matrix(yCan_test, yCan_pred2)\n",
        "plot_confusion_matrix(cmx_svmCan2)"
      ],
      "execution_count": null,
      "outputs": []
    },
    {
      "cell_type": "markdown",
      "metadata": {
        "id": "pAqK37Ph74DZ"
      },
      "source": [
        "# Normal"
      ]
    },
    {
      "cell_type": "code",
      "metadata": {
        "id": "mRxfrtt86Ouh"
      },
      "source": [
        "Categories=['angry','disgusted','fearful', 'happy', 'neutral', 'sad', 'surprised']\n",
        "flat_data_arr=[] #input array\n",
        "target_arr=[] #output array\n",
        "datadir='train' \n",
        "#path which contains all the categories of images\n",
        "for i in Categories:\n",
        "    print(f'loading... category : {i}')\n",
        "    path=os.path.join(datadir,i)\n",
        "    x = 0\n",
        "    for img in os.listdir(path):\n",
        "        x = x + 1\n",
        "        if x == 1001:\n",
        "          break\n",
        "        img_array=imread(os.path.join(path,img))\n",
        "        image=resize(img_array,(48,48))\n",
        "        flat_data_arr.append(image.flatten())\n",
        "        target_arr.append(Categories.index(i))\n",
        "    print(f'loaded category:{i} successfully')\n",
        "flat_data=np.array(flat_data_arr)\n",
        "target=np.array(target_arr)\n",
        "df=pd.DataFrame(flat_data) #dataframe\n",
        "df['Target']=target\n",
        "x=df.iloc[:,:-1] #input data \n",
        "y=df.iloc[:,-1] #output data"
      ],
      "execution_count": null,
      "outputs": []
    },
    {
      "cell_type": "code",
      "metadata": {
        "id": "-zEd70JjEa3D"
      },
      "source": [
        "Categories=['angry','disgusted','fearful', 'happy', 'neutral', 'sad', 'surprised']\n",
        "flat_data_arr=[] #input array\n",
        "target_arr=[] #output array\n",
        "datadir='test' \n",
        "#path which contains all the categories of images\n",
        "for i in Categories:\n",
        "    print(f'loading... category : {i}')\n",
        "    path=os.path.join(datadir,i)\n",
        "    for img in os.listdir(path):\n",
        "        img_array=imread(os.path.join(path,img))\n",
        "        image=resize(img_array,(48,48))\n",
        "        flat_data_arr.append(image.flatten())\n",
        "        target_arr.append(Categories.index(i))\n",
        "    print(f'loaded category:{i} successfully')\n",
        "flat_data=np.array(flat_data_arr)\n",
        "target=np.array(target_arr)\n",
        "dfRTest=pd.DataFrame(flat_data) #dataframe\n",
        "dfRTest['Target']=target\n",
        "xRTest=dfRTest.iloc[:,:-1] #input data \n",
        "yRTest=dfRTest.iloc[:,-1] #output data"
      ],
      "execution_count": null,
      "outputs": []
    },
    {
      "cell_type": "code",
      "metadata": {
        "id": "xUYQYECE68WS"
      },
      "source": [
        "from sklearn.model_selection import train_test_split\n",
        "x_train,x_test,y_train,y_test=train_test_split(x,y,test_size=0.20,random_state=77,stratify=y)\n",
        "print('Splitted Successfully')"
      ],
      "execution_count": null,
      "outputs": []
    },
    {
      "cell_type": "code",
      "metadata": {
        "id": "QfIkc38MEUvr"
      },
      "source": [
        "clf = svm.SVC(kernel='rbf', gamma=0.01, C=10)\n",
        "clf.fit(x, y)\n",
        "y_pred = clf.predict(xRTest)\n",
        "print(\"Accuracy:\",metrics.accuracy_score(yRTest, y_pred))"
      ],
      "execution_count": null,
      "outputs": []
    },
    {
      "cell_type": "code",
      "metadata": {
        "id": "RnZEEdQkRfW6"
      },
      "source": [
        "y_pred = clf.predict(xRTest)\n",
        "print(\"Accuracy:\",metrics.accuracy_score(yRTest, y_pred))"
      ],
      "execution_count": null,
      "outputs": []
    },
    {
      "cell_type": "code",
      "metadata": {
        "id": "7Ix0dg1fRH74"
      },
      "source": [
        "print(x)"
      ],
      "execution_count": null,
      "outputs": []
    },
    {
      "cell_type": "code",
      "metadata": {
        "id": "iNMDZzETQ2Kt"
      },
      "source": [
        "print(\"Classification report for - \\n{}:\\n{}\\n\".format(\n",
        "    clf, metrics.classification_report(yRTest, y_pred)))"
      ],
      "execution_count": null,
      "outputs": []
    },
    {
      "cell_type": "code",
      "metadata": {
        "id": "NaMthnFdUADu"
      },
      "source": [
        "cmx_svm = confusion_matrix(yRTest, y_pred)\n",
        "print(cmx_svm)\n",
        "plot_confusion_matrix(cmx_svm)"
      ],
      "execution_count": null,
      "outputs": []
    },
    {
      "cell_type": "code",
      "metadata": {
        "id": "B_L1ffN16xcs"
      },
      "source": [
        "clf = svm.SVC(kernel='rbf', gamma=0.01, C=10)\n",
        "clf.fit(x_train, y_train)\n",
        "y_pred = clf.predict(x_test)\n",
        "print(\"Accuracy:\",metrics.accuracy_score(y_test, y_pred))"
      ],
      "execution_count": null,
      "outputs": []
    },
    {
      "cell_type": "code",
      "metadata": {
        "id": "N7uGuvm3_OkJ"
      },
      "source": [
        "print(\"Classification report for - \\n{}:\\n{}\\n\".format(\n",
        "    clf, metrics.classification_report(y_test, y_pred)))"
      ],
      "execution_count": null,
      "outputs": []
    },
    {
      "cell_type": "code",
      "metadata": {
        "id": "zWCaWa0u_Vvo"
      },
      "source": [
        "cmx_svm = confusion_matrix(y_test, y_pred)\n",
        "plot_confusion_matrix(cmx_svm)"
      ],
      "execution_count": null,
      "outputs": []
    },
    {
      "cell_type": "markdown",
      "metadata": {
        "id": "OLUG-Eyq7-Jt"
      },
      "source": [
        "# Sobel"
      ]
    },
    {
      "cell_type": "code",
      "metadata": {
        "id": "vTDUdd1I_8uD"
      },
      "source": [
        "CategoriesSobel=['angry','disgusted','fearful', 'happy', 'neutral', 'sad', 'surprised']\n",
        "flat_data_arr=[] #input array\n",
        "target_arr=[] #output array\n",
        "datadir='train' \n",
        "#path which contains all the categories of images\n",
        "for i in CategoriesSobel:\n",
        "    print(f'loading... category : {i}')\n",
        "    path=os.path.join(datadir,i)\n",
        "    x = 0\n",
        "    for img in os.listdir(path):\n",
        "        x = x + 1\n",
        "        if x == 3001:\n",
        "            break\n",
        "        img_array=imread(os.path.join(path,img))\n",
        "        image = filters.sobel(img_array)\n",
        "        image=resize(image,(48,48))\n",
        "        flat_data_arr.append(image.flatten())\n",
        "        target_arr.append(CategoriesSobel.index(i))\n",
        "    print(f'loaded category:{i} successfully')\n",
        "flat_data=np.array(flat_data_arr)\n",
        "target=np.array(target_arr)\n",
        "dfSob=pd.DataFrame(flat_data) #dataframe\n",
        "dfSob['Target']=target\n",
        "xSob=dfSob.iloc[:,:-1] #input data \n",
        "ySob=dfSob.iloc[:,-1] #output data"
      ],
      "execution_count": null,
      "outputs": []
    },
    {
      "cell_type": "code",
      "metadata": {
        "id": "gZ2EtWYTasAU"
      },
      "source": [
        "Categories=['angry','disgusted','fearful', 'happy', 'neutral', 'sad', 'surprised']\n",
        "flat_data_arr=[] #input array\n",
        "target_arr=[] #output array\n",
        "datadir='test' \n",
        "#path which contains all the categories of images\n",
        "for i in Categories:\n",
        "    print(f'loading... category : {i}')\n",
        "    path=os.path.join(datadir,i)\n",
        "    for img in os.listdir(path):\n",
        "        img_array=imread(os.path.join(path,img))\n",
        "        image = filters.sobel(img_array)\n",
        "        image=resize(image,(48,48))\n",
        "        flat_data_arr.append(image.flatten())\n",
        "        target_arr.append(Categories.index(i))\n",
        "    print(f'loaded category:{i} successfully')\n",
        "flat_data=np.array(flat_data_arr)\n",
        "target=np.array(target_arr)\n",
        "dfRTest=pd.DataFrame(flat_data) #dataframe\n",
        "dfRTest['Target']=target\n",
        "xRTest=dfRTest.iloc[:,:-1] #input data \n",
        "yRTest=dfRTest.iloc[:,-1] #output data"
      ],
      "execution_count": null,
      "outputs": []
    },
    {
      "cell_type": "code",
      "metadata": {
        "id": "Je5OQE0QALVw"
      },
      "source": [
        "from sklearn.model_selection import train_test_split\n",
        "xSob_train,xSob_test,ySob_train,ySob_test=train_test_split(xSob,ySob,test_size=0.20,random_state=77,stratify=ySob)\n",
        "print('Splitted Successfully')"
      ],
      "execution_count": null,
      "outputs": []
    },
    {
      "cell_type": "code",
      "metadata": {
        "id": "-ONQcm87ARN7"
      },
      "source": [
        "clfSob = svm.SVC(kernel='rbf', gamma=0.01, C=10)\n",
        "clfSob.fit(xSob, ySob)\n",
        "ySob_pred = clfSob.predict(xRTest)\n",
        "print(\"Accuracy:\",metrics.accuracy_score(yRTest, ySob_pred))"
      ],
      "execution_count": null,
      "outputs": []
    },
    {
      "cell_type": "code",
      "metadata": {
        "id": "-XFLaBMWlFOl"
      },
      "source": [
        "from sklearn import metrics\n",
        "print(\"Accuracy:\",metrics.accuracy_score(yRTest, ySob_pred))\n",
        "print(\"Classification report for - \\n{}:\\n{}\\n\".format(\n",
        "    clfSob, metrics.classification_report(yRTest, ySob_pred)))"
      ],
      "execution_count": null,
      "outputs": []
    },
    {
      "cell_type": "code",
      "metadata": {
        "id": "XECZMq0ZlQaW"
      },
      "source": [
        "from sklearn.metrics import confusion_matrix\n",
        "cmx_svm_sobel = confusion_matrix(yRTest, ySob_pred)\n",
        "print(cmx_svm_sobel)"
      ],
      "execution_count": null,
      "outputs": []
    },
    {
      "cell_type": "code",
      "metadata": {
        "id": "wJR8tsnZl4H8"
      },
      "source": [
        "plot_confusion_matrix(cmx_svm_sobel)"
      ],
      "execution_count": null,
      "outputs": []
    },
    {
      "cell_type": "code",
      "metadata": {
        "id": "CL9-hC-wD8Zb"
      },
      "source": [
        "print(\"Classification report for - \\n{}:\\n{}\\n\".format(\n",
        "    clfSob, metrics.classification_report(ySob_test, ySob_pred)))"
      ],
      "execution_count": null,
      "outputs": []
    },
    {
      "cell_type": "code",
      "metadata": {
        "id": "rExLR5aQEOfb"
      },
      "source": [
        "cmx_svm_sobel = confusion_matrix(ySob_test, ySob_pred)\n",
        "plot_confusion_matrix(cmx_svm_sobel)"
      ],
      "execution_count": null,
      "outputs": []
    },
    {
      "cell_type": "markdown",
      "metadata": {
        "id": "vHSffPbXEc1s"
      },
      "source": [
        "# HOG"
      ]
    },
    {
      "cell_type": "code",
      "metadata": {
        "id": "Yq4C176GEsg2"
      },
      "source": [
        "from skimage.feature import hog\n",
        "from skimage.transform import rescale\n",
        "from skimage import exposure, io, util\n",
        "\n",
        "image = imread('train/angry/im7.png', as_gray=True)\n",
        "image_hog, image_hog_img = hog(\n",
        "    image, pixels_per_cell=(4,4), \n",
        "    cells_per_block=(1, 1), \n",
        "    orientations=8, \n",
        "    visualize=True, \n",
        "    block_norm='L2-Hys')\n",
        "fig, ax = plt.subplots(1, 2)\n",
        "ax[0].imshow(image, cmap='gray')\n",
        "ax[1].imshow(image_hog_img, cmap=\"gray\")\n",
        "print(image_hog.shape[0])\n",
        "print(image.shape[0]*image.shape[1])"
      ],
      "execution_count": null,
      "outputs": []
    },
    {
      "cell_type": "code",
      "metadata": {
        "id": "l_JoLiiPEe0-"
      },
      "source": [
        "CategoriesHog=['angry','disgusted','fearful', 'happy', 'neutral', 'sad', 'surprised']\n",
        "flat_data_arr=[] #input array\n",
        "target_arr=[] #output array\n",
        "datadir='train' \n",
        "#path which contains all the categories of images\n",
        "for i in Categories:\n",
        "    print(f'loading... category : {i}')\n",
        "    path=os.path.join(datadir,i)\n",
        "    x = 0\n",
        "    for img in os.listdir(path):\n",
        "        x = x + 1\n",
        "        if x == 2001:\n",
        "          break\n",
        "        img_array=imread(os.path.join(path,img))\n",
        "        image_hog, image_hog_img = hog(\n",
        "          img_array, pixels_per_cell=(4,4), \n",
        "          cells_per_block=(1, 1), \n",
        "          orientations=8, \n",
        "          visualize=True, \n",
        "          block_norm='L2-Hys')\n",
        "        image=resize(image_hog_img,(48,48))\n",
        "        flat_data_arr.append(image.flatten())\n",
        "        target_arr.append(Categories.index(i))\n",
        "    print(f'loaded category:{i} successfully')\n",
        "flat_data=np.array(flat_data_arr)\n",
        "target=np.array(target_arr)\n",
        "dfHog=pd.DataFrame(flat_data) #dataframe\n",
        "dfHog['Target']=target\n",
        "xHog=dfHog.iloc[:,:-1] #input data \n",
        "yHog=dfHog.iloc[:,-1] #output data"
      ],
      "execution_count": null,
      "outputs": []
    },
    {
      "cell_type": "code",
      "metadata": {
        "id": "Jh-BVQ4kFFQH"
      },
      "source": [
        "xHog_train,xHog_test,yHog_train,yHog_test=train_test_split(xHog,yHog,test_size=0.20,random_state=77,stratify=yHog)\n",
        "print('Splitted Successfully')"
      ],
      "execution_count": null,
      "outputs": []
    },
    {
      "cell_type": "code",
      "metadata": {
        "id": "Dw2tiAWfFM-c"
      },
      "source": [
        "clfHog = svm.SVC(kernel='rbf', gamma=0.01, C=10)\n",
        "clfHog.fit(xHog_train, yHog_train)\n",
        "yHog_pred = clfHog.predict(xHog_test)\n",
        "print(\"Accuracy:\",metrics.accuracy_score(yHog_test, yHog_pred))"
      ],
      "execution_count": null,
      "outputs": []
    },
    {
      "cell_type": "code",
      "metadata": {
        "id": "q1O4sRD1FUWL"
      },
      "source": [
        "print(\"Classification report for - \\n{}:\\n{}\\n\".format(\n",
        "    clfHog, metrics.classification_report(yHog_test, yHog_pred)))"
      ],
      "execution_count": null,
      "outputs": []
    },
    {
      "cell_type": "code",
      "metadata": {
        "id": "Y7-RrGrQFdMh"
      },
      "source": [
        "cmx_svm_hog = confusion_matrix(yHog_test, yHog_pred)\n",
        "plot_confusion_matrix(cmx_svm_hog)"
      ],
      "execution_count": null,
      "outputs": []
    }
  ]
}