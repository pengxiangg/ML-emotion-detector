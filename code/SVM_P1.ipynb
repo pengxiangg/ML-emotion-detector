{
 "cells": [
  {
   "cell_type": "code",
   "execution_count": 1,
   "metadata": {},
   "outputs": [
    {
     "name": "stdout",
     "output_type": "stream",
     "text": [
      "Requirement already satisfied: jupyterlab in c:\\users\\okuyy\\appdata\\local\\programs\\python\\python38\\lib\\site-packages (3.1.18)Note: you may need to restart the kernel to use updated packages.\n",
      "Requirement already satisfied: packaging in c:\\users\\okuyy\\appdata\\local\\programs\\python\\python38\\lib\\site-packages (from jupyterlab) (21.0)\n",
      "Requirement already satisfied: ipython in c:\\users\\okuyy\\appdata\\local\\programs\\python\\python38\\lib\\site-packages (from jupyterlab) (7.27.0)\n"
     ]
    },
    {
     "name": "stderr",
     "output_type": "stream",
     "text": [
      "WARNING: You are using pip version 21.2.4; however, version 21.3.1 is available.\n",
      "You should consider upgrading via the 'C:\\Users\\okuyy\\AppData\\Local\\Programs\\Python\\Python38\\python.exe -m pip install --upgrade pip' command.\n"
     ]
    },
    {
     "name": "stdout",
     "output_type": "stream",
     "text": [
      "\n",
      "Requirement already satisfied: nbclassic~=0.2 in c:\\users\\okuyy\\appdata\\local\\programs\\python\\python38\\lib\\site-packages (from jupyterlab) (0.3.2)\n",
      "Requirement already satisfied: jupyterlab-server~=2.3 in c:\\users\\okuyy\\appdata\\local\\programs\\python\\python38\\lib\\site-packages (from jupyterlab) (2.8.2)\n",
      "Requirement already satisfied: jupyter-server~=1.4 in c:\\users\\okuyy\\appdata\\local\\programs\\python\\python38\\lib\\site-packages (from jupyterlab) (1.11.1)\n",
      "Requirement already satisfied: jupyter-core in c:\\users\\okuyy\\appdata\\local\\programs\\python\\python38\\lib\\site-packages (from jupyterlab) (4.8.1)\n",
      "Requirement already satisfied: tornado>=6.1.0 in c:\\users\\okuyy\\appdata\\local\\programs\\python\\python38\\lib\\site-packages (from jupyterlab) (6.1)\n",
      "Requirement already satisfied: jinja2>=2.1 in c:\\users\\okuyy\\appdata\\local\\programs\\python\\python38\\lib\\site-packages (from jupyterlab) (3.0.2)\n",
      "Requirement already satisfied: MarkupSafe>=2.0 in c:\\users\\okuyy\\appdata\\local\\programs\\python\\python38\\lib\\site-packages (from jinja2>=2.1->jupyterlab) (2.0.1)\n",
      "Requirement already satisfied: pyzmq>=17 in c:\\users\\okuyy\\appdata\\local\\programs\\python\\python38\\lib\\site-packages (from jupyter-server~=1.4->jupyterlab) (22.3.0)\n",
      "Requirement already satisfied: argon2-cffi in c:\\users\\okuyy\\appdata\\local\\programs\\python\\python38\\lib\\site-packages (from jupyter-server~=1.4->jupyterlab) (21.1.0)\n",
      "Requirement already satisfied: traitlets>=4.2.1 in c:\\users\\okuyy\\appdata\\local\\programs\\python\\python38\\lib\\site-packages (from jupyter-server~=1.4->jupyterlab) (5.1.0)\n",
      "Requirement already satisfied: anyio<4,>=3.1.0 in c:\\users\\okuyy\\appdata\\local\\programs\\python\\python38\\lib\\site-packages (from jupyter-server~=1.4->jupyterlab) (3.3.2)\n",
      "Requirement already satisfied: websocket-client in c:\\users\\okuyy\\appdata\\local\\programs\\python\\python38\\lib\\site-packages (from jupyter-server~=1.4->jupyterlab) (1.2.1)\n",
      "Requirement already satisfied: ipython-genutils in c:\\users\\okuyy\\appdata\\local\\programs\\python\\python38\\lib\\site-packages (from jupyter-server~=1.4->jupyterlab) (0.2.0)\n",
      "Requirement already satisfied: jupyter-client>=6.1.1 in c:\\users\\okuyy\\appdata\\local\\programs\\python\\python38\\lib\\site-packages (from jupyter-server~=1.4->jupyterlab) (7.0.3)\n",
      "Requirement already satisfied: nbformat in c:\\users\\okuyy\\appdata\\local\\programs\\python\\python38\\lib\\site-packages (from jupyter-server~=1.4->jupyterlab) (5.1.3)\n",
      "Requirement already satisfied: Send2Trash in c:\\users\\okuyy\\appdata\\local\\programs\\python\\python38\\lib\\site-packages (from jupyter-server~=1.4->jupyterlab) (1.8.0)\n",
      "Requirement already satisfied: prometheus-client in c:\\users\\okuyy\\appdata\\local\\programs\\python\\python38\\lib\\site-packages (from jupyter-server~=1.4->jupyterlab) (0.11.0)\n",
      "Requirement already satisfied: nbconvert in c:\\users\\okuyy\\appdata\\local\\programs\\python\\python38\\lib\\site-packages (from jupyter-server~=1.4->jupyterlab) (6.2.0)\n",
      "Requirement already satisfied: terminado>=0.8.3 in c:\\users\\okuyy\\appdata\\local\\programs\\python\\python38\\lib\\site-packages (from jupyter-server~=1.4->jupyterlab) (0.12.1)\n",
      "Requirement already satisfied: requests-unixsocket in c:\\users\\okuyy\\appdata\\local\\programs\\python\\python38\\lib\\site-packages (from jupyter-server~=1.4->jupyterlab) (0.2.0)\n",
      "Requirement already satisfied: idna>=2.8 in c:\\users\\okuyy\\appdata\\local\\programs\\python\\python38\\lib\\site-packages (from anyio<4,>=3.1.0->jupyter-server~=1.4->jupyterlab) (3.2)\n",
      "Requirement already satisfied: sniffio>=1.1 in c:\\users\\okuyy\\appdata\\local\\programs\\python\\python38\\lib\\site-packages (from anyio<4,>=3.1.0->jupyter-server~=1.4->jupyterlab) (1.2.0)\n",
      "Requirement already satisfied: nest-asyncio>=1.5 in c:\\users\\okuyy\\appdata\\local\\programs\\python\\python38\\lib\\site-packages (from jupyter-client>=6.1.1->jupyter-server~=1.4->jupyterlab) (1.5.1)\n",
      "Requirement already satisfied: python-dateutil>=2.1 in c:\\users\\okuyy\\appdata\\local\\programs\\python\\python38\\lib\\site-packages (from jupyter-client>=6.1.1->jupyter-server~=1.4->jupyterlab) (2.8.2)\n",
      "Requirement already satisfied: entrypoints in c:\\users\\okuyy\\appdata\\local\\programs\\python\\python38\\lib\\site-packages (from jupyter-client>=6.1.1->jupyter-server~=1.4->jupyterlab) (0.3)\n",
      "Requirement already satisfied: pywin32>=1.0 in c:\\users\\okuyy\\appdata\\local\\programs\\python\\python38\\lib\\site-packages (from jupyter-core->jupyterlab) (301)\n",
      "Requirement already satisfied: json5 in c:\\users\\okuyy\\appdata\\local\\programs\\python\\python38\\lib\\site-packages (from jupyterlab-server~=2.3->jupyterlab) (0.9.6)\n",
      "Requirement already satisfied: babel in c:\\users\\okuyy\\appdata\\local\\programs\\python\\python38\\lib\\site-packages (from jupyterlab-server~=2.3->jupyterlab) (2.9.1)\n",
      "Requirement already satisfied: jsonschema>=3.0.1 in c:\\users\\okuyy\\appdata\\local\\programs\\python\\python38\\lib\\site-packages (from jupyterlab-server~=2.3->jupyterlab) (4.1.0)\n",
      "Requirement already satisfied: requests in c:\\users\\okuyy\\appdata\\local\\programs\\python\\python38\\lib\\site-packages (from jupyterlab-server~=2.3->jupyterlab) (2.26.0)\n",
      "Requirement already satisfied: pyrsistent!=0.17.0,!=0.17.1,!=0.17.2,>=0.14.0 in c:\\users\\okuyy\\appdata\\local\\programs\\python\\python38\\lib\\site-packages (from jsonschema>=3.0.1->jupyterlab-server~=2.3->jupyterlab) (0.18.0)\n",
      "Requirement already satisfied: attrs>=17.4.0 in c:\\users\\okuyy\\appdata\\local\\programs\\python\\python38\\lib\\site-packages (from jsonschema>=3.0.1->jupyterlab-server~=2.3->jupyterlab) (21.2.0)\n",
      "Requirement already satisfied: notebook<7 in c:\\users\\okuyy\\appdata\\local\\programs\\python\\python38\\lib\\site-packages (from nbclassic~=0.2->jupyterlab) (6.4.4)\n",
      "Requirement already satisfied: ipykernel in c:\\users\\okuyy\\appdata\\local\\programs\\python\\python38\\lib\\site-packages (from notebook<7->nbclassic~=0.2->jupyterlab) (6.4.1)\n",
      "Requirement already satisfied: six>=1.5 in c:\\users\\okuyy\\appdata\\local\\programs\\python\\python38\\lib\\site-packages (from python-dateutil>=2.1->jupyter-client>=6.1.1->jupyter-server~=1.4->jupyterlab) (1.16.0)\n",
      "Requirement already satisfied: pywinpty>=1.1.0 in c:\\users\\okuyy\\appdata\\local\\programs\\python\\python38\\lib\\site-packages (from terminado>=0.8.3->jupyter-server~=1.4->jupyterlab) (1.1.4)\n",
      "Requirement already satisfied: cffi>=1.0.0 in c:\\users\\okuyy\\appdata\\local\\programs\\python\\python38\\lib\\site-packages (from argon2-cffi->jupyter-server~=1.4->jupyterlab) (1.14.6)\n",
      "Requirement already satisfied: pycparser in c:\\users\\okuyy\\appdata\\local\\programs\\python\\python38\\lib\\site-packages (from cffi>=1.0.0->argon2-cffi->jupyter-server~=1.4->jupyterlab) (2.20)\n",
      "Requirement already satisfied: pytz>=2015.7 in c:\\users\\okuyy\\appdata\\local\\programs\\python\\python38\\lib\\site-packages (from babel->jupyterlab-server~=2.3->jupyterlab) (2021.3)\n",
      "Requirement already satisfied: debugpy<2.0,>=1.0.0 in c:\\users\\okuyy\\appdata\\local\\programs\\python\\python38\\lib\\site-packages (from ipykernel->notebook<7->nbclassic~=0.2->jupyterlab) (1.4.3)\n",
      "Requirement already satisfied: matplotlib-inline<0.2.0,>=0.1.0 in c:\\users\\okuyy\\appdata\\local\\programs\\python\\python38\\lib\\site-packages (from ipykernel->notebook<7->nbclassic~=0.2->jupyterlab) (0.1.3)\n",
      "Requirement already satisfied: pickleshare in c:\\users\\okuyy\\appdata\\local\\programs\\python\\python38\\lib\\site-packages (from ipython->jupyterlab) (0.7.5)\n",
      "Requirement already satisfied: prompt-toolkit!=3.0.0,!=3.0.1,<3.1.0,>=2.0.0 in c:\\users\\okuyy\\appdata\\local\\programs\\python\\python38\\lib\\site-packages (from ipython->jupyterlab) (3.0.20)\n",
      "Requirement already satisfied: setuptools>=18.5 in c:\\users\\okuyy\\appdata\\local\\programs\\python\\python38\\lib\\site-packages (from ipython->jupyterlab) (49.2.1)\n",
      "Requirement already satisfied: pygments in c:\\users\\okuyy\\appdata\\local\\programs\\python\\python38\\lib\\site-packages (from ipython->jupyterlab) (2.10.0)\n",
      "Requirement already satisfied: backcall in c:\\users\\okuyy\\appdata\\local\\programs\\python\\python38\\lib\\site-packages (from ipython->jupyterlab) (0.2.0)\n",
      "Requirement already satisfied: colorama in c:\\users\\okuyy\\appdata\\local\\programs\\python\\python38\\lib\\site-packages (from ipython->jupyterlab) (0.4.4)\n",
      "Requirement already satisfied: decorator in c:\\users\\okuyy\\appdata\\local\\programs\\python\\python38\\lib\\site-packages (from ipython->jupyterlab) (5.1.0)\n",
      "Requirement already satisfied: jedi>=0.16 in c:\\users\\okuyy\\appdata\\local\\programs\\python\\python38\\lib\\site-packages (from ipython->jupyterlab) (0.18.0)\n",
      "Requirement already satisfied: parso<0.9.0,>=0.8.0 in c:\\users\\okuyy\\appdata\\local\\programs\\python\\python38\\lib\\site-packages (from jedi>=0.16->ipython->jupyterlab) (0.8.2)\n",
      "Requirement already satisfied: wcwidth in c:\\users\\okuyy\\appdata\\local\\programs\\python\\python38\\lib\\site-packages (from prompt-toolkit!=3.0.0,!=3.0.1,<3.1.0,>=2.0.0->ipython->jupyterlab) (0.2.5)\n",
      "Requirement already satisfied: bleach in c:\\users\\okuyy\\appdata\\local\\programs\\python\\python38\\lib\\site-packages (from nbconvert->jupyter-server~=1.4->jupyterlab) (4.1.0)\n",
      "Requirement already satisfied: nbclient<0.6.0,>=0.5.0 in c:\\users\\okuyy\\appdata\\local\\programs\\python\\python38\\lib\\site-packages (from nbconvert->jupyter-server~=1.4->jupyterlab) (0.5.4)\n",
      "Requirement already satisfied: pandocfilters>=1.4.1 in c:\\users\\okuyy\\appdata\\local\\programs\\python\\python38\\lib\\site-packages (from nbconvert->jupyter-server~=1.4->jupyterlab) (1.5.0)\n",
      "Requirement already satisfied: jupyterlab-pygments in c:\\users\\okuyy\\appdata\\local\\programs\\python\\python38\\lib\\site-packages (from nbconvert->jupyter-server~=1.4->jupyterlab) (0.1.2)\n",
      "Requirement already satisfied: mistune<2,>=0.8.1 in c:\\users\\okuyy\\appdata\\local\\programs\\python\\python38\\lib\\site-packages (from nbconvert->jupyter-server~=1.4->jupyterlab) (0.8.4)\n",
      "Requirement already satisfied: defusedxml in c:\\users\\okuyy\\appdata\\local\\programs\\python\\python38\\lib\\site-packages (from nbconvert->jupyter-server~=1.4->jupyterlab) (0.7.1)\n",
      "Requirement already satisfied: testpath in c:\\users\\okuyy\\appdata\\local\\programs\\python\\python38\\lib\\site-packages (from nbconvert->jupyter-server~=1.4->jupyterlab) (0.5.0)\n",
      "Requirement already satisfied: webencodings in c:\\users\\okuyy\\appdata\\local\\programs\\python\\python38\\lib\\site-packages (from bleach->nbconvert->jupyter-server~=1.4->jupyterlab) (0.5.1)\n",
      "Requirement already satisfied: pyparsing>=2.0.2 in c:\\users\\okuyy\\appdata\\local\\programs\\python\\python38\\lib\\site-packages (from packaging->jupyterlab) (2.4.7)\n",
      "Requirement already satisfied: certifi>=2017.4.17 in c:\\users\\okuyy\\appdata\\local\\programs\\python\\python38\\lib\\site-packages (from requests->jupyterlab-server~=2.3->jupyterlab) (2021.10.8)\n",
      "Requirement already satisfied: urllib3<1.27,>=1.21.1 in c:\\users\\okuyy\\appdata\\local\\programs\\python\\python38\\lib\\site-packages (from requests->jupyterlab-server~=2.3->jupyterlab) (1.26.7)\n",
      "Requirement already satisfied: charset-normalizer~=2.0.0 in c:\\users\\okuyy\\appdata\\local\\programs\\python\\python38\\lib\\site-packages (from requests->jupyterlab-server~=2.3->jupyterlab) (2.0.6)\n"
     ]
    }
   ],
   "source": [
    "pip install jupyterlab"
   ]
  },
  {
   "cell_type": "code",
   "execution_count": null,
   "metadata": {},
   "outputs": [],
   "source": [
    "!pip install opendatasets\n",
    "import opendatasets as od\n",
    "od.download(\"https://www.kaggle.com/ananthu017/emotion-detection-fer\")\n"
   ]
  },
  {
   "cell_type": "code",
   "execution_count": null,
   "metadata": {},
   "outputs": [],
   "source": [
    "! pip install wheel\n",
    "! pip install pandas\n",
    "import pandas as pd\n",
    "import os\n",
    "\n",
    "! pip install scikit-image\n",
    "from skimage.transform import resize\n",
    "from skimage.io import imread\n",
    "import numpy as np\n",
    "import matplotlib.pyplot as plt\n",
    "\n",
    "! pip install -U scikit-learn scipy matplotlib"
   ]
  },
  {
   "cell_type": "code",
   "execution_count": null,
   "metadata": {},
   "outputs": [],
   "source": [
    "Categories = ['angry','disgusted','fearful', 'happy', 'neutral', 'sad', 'surprised']\n",
    "\n",
    "flat_data_arr_test = [] #input array\n",
    "target_arr_test = [] #output array\n",
    "datadir_test = 'C:/Users/okuyy/Desktop/NUS/Y3S1/CS3244/Project/emotion-detection-fer/test' \n",
    "for i in Categories:\n",
    "    print(f'loading... category : {i}')\n",
    "    path = os.path.join(datadir_test, i)\n",
    "    for img in os.listdir(path):\n",
    "        img_array = imread(os.path.join(path, img))\n",
    "        img_resized = resize(img_array, (48, 48))\n",
    "        flat_data_arr_test.append(img_resized.flatten())\n",
    "        target_arr_test.append(Categories.index(i))\n",
    "    print(f'test loaded category:{i} successfully')\n",
    "\n",
    "flat_data_arr_train = [] #input array\n",
    "target_arr_train = [] #output array\n",
    "datadir_train = 'C:/Users/okuyy/Desktop/NUS/Y3S1/CS3244/Project/emotion-detection-fer/train' \n",
    "for i in Categories:\n",
    "    print(f'loading... category : {i}')\n",
    "    path = os.path.join(datadir_train, i)\n",
    "    for img in os.listdir(path):\n",
    "        img_array = imread(os.path.join(path, img))\n",
    "        img_resized = resize(img_array ,(48, 48))\n",
    "        flat_data_arr_train.append(img_resized.flatten())\n",
    "        target_arr_train.append(Categories.index(i))\n",
    "    print(f'train loaded category:{i} successfully')"
   ]
  },
  {
   "cell_type": "code",
   "execution_count": null,
   "metadata": {},
   "outputs": [],
   "source": [
    "from sklearn import svm\n",
    "from sklearn.metrics import accuracy_score"
   ]
  },
  {
   "cell_type": "code",
   "execution_count": null,
   "metadata": {},
   "outputs": [],
   "source": [
    "flat_data_test = np.array(flat_data_arr_test)\n",
    "target_test = np.array(target_arr_test)\n",
    "df_test = pd.DataFrame(flat_data_test) #dataframe\n",
    "df_test['Target'] = target_test\n",
    "x_test =df_test.iloc[:,:-1] #input data \n",
    "y_test =df_test.iloc[:,-1] #output data\n",
    "\n",
    "flat_data_train = np.array(flat_data_arr_train)\n",
    "target_train = np.array(target_arr_train)\n",
    "df_train = pd.DataFrame(flat_data_train) #dataframe\n",
    "df_train['Target'] = target_train\n",
    "x_train =df_train.iloc[:,:-1] #input data \n",
    "y_train =df_train.iloc[:,-1] #output data"
   ]
  },
  {
   "cell_type": "code",
   "execution_count": 8,
   "metadata": {},
   "outputs": [
    {
     "name": "stdout",
     "output_type": "stream",
     "text": [
      "[LibSVM]The Model is trained we+-96+ll with the given images\n",
      "The predicted Data is :\n",
      "[3 3 3 ... 3 3 3]\n",
      "The actual data is:\n",
      "[0 0 0 ... 6 6 6]\n",
      "The model is 25.090554471997773% accurate\n"
     ]
    }
   ],
   "source": [
    "svc_rbf_c01 = svm.SVC(C=0.1, kernel = 'rbf', gamma = 'auto', verbose = True)\n",
    "svc_rbf_c01.fit(x_train,y_train)\n",
    "print('The Model is trained well with the given images')\n",
    "\n",
    "y_pred = svc_rbf_c01.predict(x_test)\n",
    "print(\"The predicted Data is :\")\n",
    "print(y_pred)\n",
    "\n",
    "print(\"The actual data is:\")\n",
    "print(np.array(y_test)) \n",
    "\n",
    "print(f\"The model is {accuracy_score(y_pred,y_test)*100}% accurate\")"
   ]
  },
  {
   "cell_type": "code",
   "execution_count": 13,
   "metadata": {},
   "outputs": [
    {
     "name": "stdout",
     "output_type": "stream",
     "text": [
      "[LibSVM]The Model is trained well with the given images\n",
      "The predicted Data is :\n",
      "[3 3 3 ... 3 3 3]\n",
      "The actual data is:\n",
      "[0 0 0 ... 6 6 6]\n",
      "The model is 27.626079687935356% accurate\n"
     ]
    }
   ],
   "source": [
    "svc_poly_c1_degree3 = svm.SVC(C=1, kernel = 'poly', degree = 3, gamma = 'auto', verbose = True)\n",
    "svc_poly_c1_degree3.fit(x_train,y_train)\n",
    "print('The Model is trained well with the given images')\n",
    "\n",
    "y_pred = svc_poly_c1_degree3.predict(x_test)\n",
    "print(\"The predicted Data is :\")\n",
    "print(y_pred)\n",
    "\n",
    "print(\"The actual data is:\")\n",
    "print(np.array(y_test)) \n",
    "\n",
    "print(f\"The model is {accuracy_score(y_pred,y_test)*100}% accurate\")"
   ]
  },
  {
   "cell_type": "code",
   "execution_count": 7,
   "metadata": {},
   "outputs": [
    {
     "name": "stdout",
     "output_type": "stream",
     "text": [
      "[LibSVM]The Model is trained well with the given images\n",
      "The predicted Data is :\n",
      "[3 3 4 ... 3 3 3]\n",
      "The actual data is:\n",
      "[0 0 0 ... 6 6 6]\n",
      "The model is 35.483421565895796% accurate\n"
     ]
    }
   ],
   "source": [
    "svc_poly_c10_degree3 = svm.SVC(C=10, kernel = 'poly', degree = 3, gamma = 'auto', verbose = True)\n",
    "svc_poly_c10_degree3.fit(x_train,y_train)\n",
    "print('The Model is trained well with the given images')\n",
    "\n",
    "y_pred = svc_poly_c10_degree3.predict(x_test)\n",
    "print(\"The predicted Data is :\")\n",
    "print(y_pred)\n",
    "\n",
    "print(\"The actual data is:\")\n",
    "print(np.array(y_test)) \n",
    "\n",
    "print(f\"The model is {accuracy_score(y_pred,y_test)*100}% accurate\")"
   ]
  },
  {
   "cell_type": "code",
   "execution_count": null,
   "metadata": {},
   "outputs": [
    {
     "name": "stdout",
     "output_type": "stream",
     "text": [
      "[LibSVM]The Model is trained well with the given images\n",
      "The predicted Data is :\n",
      "[3 5 4 ... 3 3 4]\n",
      "The actual data is:\n",
      "[0 0 0 ... 6 6 6]\n",
      "The model is 39.20312064641961% accurate\n"
     ]
    }
   ],
   "source": [
    "svc_poly_c40_degree3 = svm.SVC(C=40, kernel = 'poly', degree = 3, gamma = 'auto', verbose = True)\n",
    "svc_poly_c40_degree3.fit(x_train,y_train)\n",
    "print('The Model is trained well with the given images')\n",
    "\n",
    "y_pred = svc_poly_c40_degree3.predict(x_test)\n",
    "print(\"The predicted Data is :\")\n",
    "print(y_pred)\n",
    "\n",
    "print(\"The actual data is:\")\n",
    "print(np.array(y_test)) \n",
    "\n",
    "print(f\"The model is {accuracy_score(y_pred,y_test)*100}% accurate\")"
   ]
  },
  {
   "cell_type": "code",
   "execution_count": 8,
   "metadata": {},
   "outputs": [
    {
     "name": "stdout",
     "output_type": "stream",
     "text": [
      "[LibSVM]The Model is trained well with the given images\n",
      "The predicted Data is :\n",
      "[3 3 4 ... 3 3 3]\n",
      "The actual data is:\n",
      "[0 0 0 ... 6 6 6]\n",
      "The model is 33.1568682084146% accurate\n"
     ]
    }
   ],
   "source": [
    "svc_poly_c100_degree5 = svm.SVC(C=100, kernel = 'poly', degree = 5, gamma = 'auto', verbose = True)\n",
    "svc_poly_c100_degree5.fit(x_train,y_train)\n",
    "print('The Model is trained well with the given images')\n",
    "\n",
    "y_pred = svc_poly_c100_degree5.predict(x_test)\n",
    "print(\"The predicted Data is :\")\n",
    "print(y_pred)\n",
    "\n",
    "print(\"The actual data is:\")\n",
    "print(np.array(y_test)) \n",
    "\n",
    "print(f\"The model is {accuracy_score(y_pred,y_test)*100}% accurate\")"
   ]
  },
  {
   "cell_type": "code",
   "execution_count": 7,
   "metadata": {},
   "outputs": [
    {
     "name": "stdout",
     "output_type": "stream",
     "text": [
      "[LibSVM]The Model is trained well with the given images\n",
      "The predicted Data is :\n",
      "[3 3 3 ... 3 3 3]\n",
      "The actual data is:\n",
      "[0 0 0 ... 6 6 6]\n",
      "The model is 25.57815547506269% accurate\n"
     ]
    }
   ],
   "source": [
    "svc_poly_c1_degree5 = svm.SVC(C=1, kernel = 'poly', degree = 5, gamma = 'auto', verbose = True)\n",
    "svc_poly_c1_degree5.fit(x_train,y_train)\n",
    "print('The Model is trained well with the given images')\n",
    "\n",
    "y_pred = svc_poly_c1_degree5.predict(x_test)\n",
    "print(\"The predicted Data is :\")\n",
    "print(y_pred)\n",
    "\n",
    "print(\"The actual data is:\")\n",
    "print(np.array(y_test)) \n",
    "\n",
    "print(f\"The model is {accuracy_score(y_pred,y_test)*100}% accurate\")"
   ]
  },
  {
   "cell_type": "code",
   "execution_count": 9,
   "metadata": {},
   "outputs": [
    {
     "name": "stdout",
     "output_type": "stream",
     "text": [
      "[LibSVM]The Model is trained well with the given images\n",
      "The predicted Data is :\n",
      "[2 5 4 ... 3 3 3]\n",
      "The actual data is:\n",
      "[0 0 0 ... 6 6 6]\n",
      "The model is 37.698523265533574% accurate\n"
     ]
    }
   ],
   "source": [
    "svc_poly_c500_degree5 = svm.SVC(C=500, kernel = 'poly', degree = 5, gamma = 'auto', verbose = True)\n",
    "svc_poly_c500_degree5.fit(x_train,y_train)\n",
    "print('The Model is trained well with the given images')\n",
    "\n",
    "y_pred = svc_poly_c500_degree5.predict(x_test)\n",
    "print(\"The predicted Data is :\")\n",
    "print(y_pred)\n",
    "\n",
    "print(\"The actual data is:\")\n",
    "print(np.array(y_test)) \n",
    "\n",
    "print(f\"The model is {accuracy_score(y_pred,y_test)*100}% accurate\")"
   ]
  }
 ],
 "metadata": {
  "interpreter": {
   "hash": "dc1e651f61ebeac0724bd2464ec3bd28bf32df6e51a8587859d4f8cf92e579c7"
  },
  "kernelspec": {
   "display_name": "Python 3.8.7 64-bit",
   "name": "python3"
  },
  "language_info": {
   "codemirror_mode": {
    "name": "ipython",
    "version": 3
   },
   "file_extension": ".py",
   "mimetype": "text/x-python",
   "name": "python",
   "nbconvert_exporter": "python",
   "pygments_lexer": "ipython3",
   "version": "3.8.7"
  },
  "orig_nbformat": 4
 },
 "nbformat": 4,
 "nbformat_minor": 2
}
